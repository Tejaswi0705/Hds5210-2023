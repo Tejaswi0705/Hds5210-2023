{
  "cells": [
    {
      "cell_type": "markdown",
      "metadata": {
        "nbgrader": {
          "grade": false,
          "grade_id": "cell-fc1c39d0d6f8b82a",
          "locked": true,
          "schema_version": 1,
          "solution": false
        },
        "id": "YOkgoY2ZiUiG"
      },
      "source": [
        "# Week 13 Programming Assignment\n",
        "\n",
        "As you're working on identifying data for your final project, it's helpful to spend some time exploring your various data files.  For this week's assignment, I'd like you to take a few of the ideas from the the lectures, review assignment, and tonight's lecture to start exploring the data you plan to use for the final project.\n",
        "\n",
        "For the following activities, you can use just one of the data files that you've identified, or you can do the activities using different data files.  That's up to you.  Please describe what you're doing in a Markdown cell or in the comments of your code.  When you've completed the assignment, submit it as normal."
      ]
    },
    {
      "cell_type": "markdown",
      "metadata": {
        "id": "CMlq3LbMiUiH"
      },
      "source": [
        "### 1. Basic Statistics\n",
        "\n",
        "Use Python to read in your data file and show many rows and columns your data has."
      ]
    },
    {
      "cell_type": "code",
      "execution_count": 1,
      "metadata": {
        "id": "dFl-0RgqiUiI",
        "outputId": "163c9384-855b-4492-f40a-6d33b9e11c63",
        "colab": {
          "base_uri": "https://localhost:8080/"
        }
      },
      "outputs": [
        {
          "output_type": "stream",
          "name": "stdout",
          "text": [
            "The data has 768 rows and 9 columns.\n"
          ]
        }
      ],
      "source": [
        "import pandas as pd\n",
        "\n",
        "file_path = '/content/Diabetes.csv'\n",
        "\n",
        "data = pd.read_csv(file_path)\n",
        "\n",
        "num_rows, num_columns = data.shape\n",
        "\n",
        "print(f'The data has {num_rows} rows and {num_columns} columns.')"
      ]
    },
    {
      "cell_type": "markdown",
      "metadata": {
        "id": "qJjeKfleiUiI"
      },
      "source": [
        "### 2. Data Diversity\n",
        "\n",
        "Use Python to identify how many unique values each column in your data has.  Use Python to identify which column has the greatest number of distinct values (aka the most diversity)?  If your data has a unique identifier (e.g. a person or visit or record ID) then find the column with the next most number of unique values."
      ]
    },
    {
      "cell_type": "code",
      "execution_count": 3,
      "metadata": {
        "id": "vMC80cmHiUiI",
        "outputId": "e0ec9e7c-dc9c-40d5-9db1-0516b50cd1d5",
        "colab": {
          "base_uri": "https://localhost:8080/"
        }
      },
      "outputs": [
        {
          "output_type": "stream",
          "name": "stdout",
          "text": [
            "Number of unique values in each column:\n",
            "preg      17\n",
            "plas     136\n",
            "pres      47\n",
            "skin      51\n",
            "insu     186\n",
            "mass     248\n",
            "pedi     517\n",
            "age       52\n",
            "class      2\n",
            "dtype: int64\n",
            "\n",
            "The column with the most unique values is 'pedi' with 517 unique values.\n"
          ]
        }
      ],
      "source": [
        "import pandas as pd\n",
        "\n",
        "file_path = '/content/Diabetes.csv'\n",
        "\n",
        "data = pd.read_csv(file_path)\n",
        "\n",
        "unique_counts = data.nunique()\n",
        "\n",
        "most_diverse_column = unique_counts.idxmax()\n",
        "\n",
        "num_unique_values = unique_counts.max()\n",
        "\n",
        "\n",
        "print(\"Number of unique values in each column:\")\n",
        "print(unique_counts)\n",
        "\n",
        "print(f\"\\nThe column with the most unique values is '{most_diverse_column}' with {num_unique_values} unique values.\")"
      ]
    },
    {
      "cell_type": "markdown",
      "metadata": {
        "id": "Onl-L-BiiUiI"
      },
      "source": [
        "### 3. Data Redundancy\n",
        "\n",
        "Use Python to identify any columns in your data where the value for every row is the same.  For example, if you had a gender column and all the rows said 'M', then you would want to write the code that helped you determine that."
      ]
    },
    {
      "cell_type": "code",
      "execution_count": 4,
      "metadata": {
        "id": "CfEIN7oBiUiI",
        "outputId": "03c7c9ce-98b2-4cc1-8132-363fb618ae3d",
        "colab": {
          "base_uri": "https://localhost:8080/"
        }
      },
      "outputs": [
        {
          "output_type": "stream",
          "name": "stdout",
          "text": [
            "No columns found where the value for every row is the same.\n"
          ]
        }
      ],
      "source": [
        "file_path = '/content/Diabetes.csv'\n",
        "\n",
        "data = pd.read_csv(file_path)\n",
        "\n",
        "constant_columns = data.columns[data.nunique() == 1]\n",
        "\n",
        "if len(constant_columns) > 0:\n",
        "    print(\"Columns where the value for every row is the same:\")\n",
        "\n",
        "    print(constant_columns)\n",
        "else:\n",
        "    print(\"No columns found where the value for every row is the same.\")"
      ]
    },
    {
      "cell_type": "markdown",
      "metadata": {
        "id": "23Zjh0HaiUiI"
      },
      "source": [
        "### 4. Range of Values\n",
        "\n",
        "Your data almost certainly has some numeric columns that can be summed or averaged.  Create a histogram that shows the distribution of values for this column."
      ]
    },
    {
      "cell_type": "code",
      "execution_count": 12,
      "metadata": {
        "id": "PfaGZgYKiUiI",
        "outputId": "9f814afe-4b99-4f28-a575-fbf4702b6bbb",
        "colab": {
          "base_uri": "https://localhost:8080/",
          "height": 256
        }
      },
      "outputs": [
        {
          "output_type": "display_data",
          "data": {
            "text/plain": [
              "<Figure size 400x200 with 1 Axes>"
            ],
            "image/png": "[encoded data removed]"
          },
          "metadata": {}
        }
      ],
      "source": [
        "import pandas as pd\n",
        "import matplotlib.pyplot as plt\n",
        "\n",
        "file_path = '/content/Diabetes.csv'\n",
        "\n",
        "data = pd.read_csv(file_path)\n",
        "\n",
        "column_name = 'insu'\n",
        "\n",
        "if pd.api.types.is_numeric_dtype(data[column_name]):\n",
        "\n",
        "\n",
        "    plt.figure(figsize=(4,2))\n",
        "    plt.hist(data[column_name], bins=20, color='yellow', edgecolor='black')\n",
        "    plt.title(f'Distribution of {column_name}')\n",
        "    plt.xlabel(column_name)\n",
        "    plt.ylabel('Frequency')\n",
        "    plt.grid(True)\n",
        "    plt.show()\n",
        "else:\n",
        "    print(f\"The selected column '{column_name}' is not numeric and cannot be used for a histogram.\")"
      ]
    },
    {
      "cell_type": "markdown",
      "metadata": {
        "id": "mwpaS3-AiUiJ"
      },
      "source": [
        "### 5. Discussion\n",
        "\n",
        "Do any additional exploration of this data that you think may be interesting and include your code here.  Then go onto Slack and make a post about what you've observed.  Share your observation.  Share your code, if you like.  Share a screenshot of the data or a chart based on the data.\n",
        "\n",
        "Then comment on at least two other people's observations that they share on Slack.  (Use the reply as thread option in Slack to keep the conversation organized.)"
      ]
    },
    {
      "cell_type": "code",
      "execution_count": 11,
      "metadata": {
        "id": "UdGyVU9giUiJ",
        "outputId": "edcc46f4-0bcf-4289-d938-3c2c2c066a29",
        "colab": {
          "base_uri": "https://localhost:8080/",
          "height": 291
        }
      },
      "outputs": [
        {
          "output_type": "display_data",
          "data": {
            "text/plain": [
              "<Figure size 400x200 with 1 Axes>"
            ],
            "image/png": "[encoded data removed]"
          },
          "metadata": {}
        },
        {
          "output_type": "stream",
          "name": "stdout",
          "text": [
            "\n",
            "Correlation Coefficient: 0.19785905649310132\n"
          ]
        }
      ],
      "source": [
        "import pandas as pd\n",
        "import matplotlib.pyplot as plt\n",
        "import seaborn as sns\n",
        "\n",
        "file_path = '/content/Diabetes.csv'\n",
        "\n",
        "data = pd.read_csv(file_path)\n",
        "\n",
        "selected_columns = ['insu', 'mass']\n",
        "\n",
        "if all(pd.api.types.is_numeric_dtype(data[col]) for col in selected_columns):\n",
        "\n",
        "    plt.figure(figsize=(4, 2))\n",
        "    sns.scatterplot(x='insu', y='mass', data=data)\n",
        "    plt.title('Mass and Insulin')\n",
        "    plt.xlabel('Insu')\n",
        "    plt.ylabel('mass')\n",
        "    plt.grid(True)\n",
        "    plt.show()\n",
        "\n",
        "    correlation_coefficient = data['mass'].corr(data['insu'])\n",
        "    print(f\"\\nCorrelation Coefficient: {correlation_coefficient}\")\n",
        "else:\n",
        "    print(\"Selected columns are not numeric and cannot be used for exploration.\")"
      ]
    },
    {
      "cell_type": "markdown",
      "metadata": {
        "id": "eHc3uLzniUiJ"
      },
      "source": [
        "\n",
        "\n",
        "---\n",
        "\n",
        "\n",
        "\n",
        "## Submitting Your Work\n",
        "\n",
        "Submit your work as usual."
      ]
    },
    {
      "cell_type": "code",
      "execution_count": null,
      "metadata": {
        "id": "01t9--NbiUiJ"
      },
      "outputs": [],
      "source": []
    }
  ],
  "metadata": {
    "celltoolbar": "Create Assignment",
    "kernelspec": {
      "display_name": "Python 3",
      "language": "python",
      "name": "python3"
    },
    "language_info": {
      "codemirror_mode": {
        "name": "ipython",
        "version": 3
      },
      "file_extension": ".py",
      "mimetype": "text/x-python",
      "name": "python",
      "nbconvert_exporter": "python",
      "pygments_lexer": "ipython3",
      "version": "3.6.7"
    },
    "colab": {
      "provenance": []
    }
  },
  "nbformat": 4,
  "nbformat_minor": 0
}