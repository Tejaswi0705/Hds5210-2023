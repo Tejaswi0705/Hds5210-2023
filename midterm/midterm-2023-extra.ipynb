{
  "cells": [
    {
      "cell_type": "markdown",
      "metadata": {
        "id": "DAamYTmB3oPn"
      },
      "source": [
        "# Extra Credit\n",
        "\n",
        "For upto an additional 15 extra credit points on the midterm exam, you can write another function that applies additional criteria on top of what the midterm already did.  To earn the addition points, you need write a function called `summarize_results(patients)` to take the output of your  `process_people()` function to apply a new business rule and summarize the results.\n",
        "\n",
        "* Your function should take the dictionary created by `process_people()` as it's one input parameter: `patients`.\n",
        "* If the PRIEST probably is less than 10%, change the `hospital` and `address` to both have a value of `'Home'` indicating patients with a lower probability of an adverse outcome can just go home rather than be admitted to a hospital.\n",
        "* Summarize those results and count how many patients are now being sent to each location.  Your result should have the following format:\n",
        "```\n",
        "{\n",
        "    \"Home\": 123,\n",
        "    \"Hospital A\": 10,\n",
        "    \"Hospital B\": 20,\n",
        "    \"Hospital C\": 30\n",
        "}\n",
        "```\n",
        "\n",
        "As always, your function needs good docstrings; but does not require any doctests in this case."
      ]
    },
    {
      "cell_type": "code",
      "execution_count": 9,
      "metadata": {
        "id": "rZYfnaml3oPq",
        "outputId": "6110bc64-a5d7-492e-98c4-0ee5a2b14ce9",
        "colab": {
          "base_uri": "https://localhost:8080/"
        }
      },
      "outputs": [
        {
          "output_type": "stream",
          "name": "stdout",
          "text": [
            "{'Home': 1, 'Hospital B': 1, 'Hospital C': 1}\n"
          ]
        }
      ],
      "source": [
        "def generate_summary(patient_data):\n",
        "    \"\"\"\n",
        "    Generate a summary of patient outcomes based on PRIEST probability.\n",
        "\n",
        "    Args:\n",
        "        patient_data (dict): A dictionary containing patient information.\n",
        "\n",
        "    Returns:\n",
        "        dict: A summary of patient outcomes with the count for each location.\n",
        "    \"\"\"\n",
        "    summary = {\"Home\": 0}\n",
        "\n",
        "    for patient_id, patient_info in patient_data.items():\n",
        "        if \"PRIEST\" in patient_info and \"Location\" in patient_info:\n",
        "            priest_prob = patient_info[\"PRIEST\"]\n",
        "            location = patient_info[\"Location\"]\n",
        "\n",
        "            if priest_prob < 0.10:\n",
        "                summary[\"Home\"] += 1\n",
        "            elif location:\n",
        "                summary[location] = summary.get(location, 0) + 1\n",
        "\n",
        "    return summary\n",
        "\n",
        "# Example usage:\n",
        "patient_data = {\n",
        "    \"Patient1\": {'Gender': 'MALE', 'Age': 50, 'Weight': 95, 'PRIEST': 0.07, 'HeartRate': 130, 'Temperature': 36.9, 'Consciousness': 'Alert', 'Oxygen': 'Supplemental oxygen', 'Activity': 'Limited self-care', 'Location': 'Hospital A', 'Address': '123 Main St'},\n",
        "    \"Patient2\": {'Gender': 'FEMALE', 'Age': 45, 'Weight': 42, 'PRIEST': 0.12, 'HeartRate': 125, 'Temperature': 36.2, 'Consciousness': 'Calert', 'Oxygen': 'Air', 'Activity': 'Unrestricted normal activity', 'Location': 'Hospital B', 'Address': '456 Elm St'},\n",
        "    \"Patient3\": {'Gender': 'MALE', 'Age': 65, 'Weight': 72, 'PRIEST': 0.15, 'HeartRate': 145, 'Temperature': 37.2, 'Consciousness': 'Awake', 'Oxygen': 'Air', 'Activity': 'Limited self-care', 'Location': 'Hospital C', 'Address': '789 Oak St'},\n",
        "}\n",
        "\n",
        "summary = generate_summary(patient_data)\n",
        "print(summary)\n"
      ]
    },
    {
      "cell_type": "code",
      "execution_count": null,
      "metadata": {
        "id": "1jnINbzT3oPr"
      },
      "outputs": [],
      "source": []
    }
  ],
  "metadata": {
    "kernelspec": {
      "display_name": ".venv",
      "language": "python",
      "name": "python3"
    },
    "language_info": {
      "codemirror_mode": {
        "name": "ipython",
        "version": 3
      },
      "file_extension": ".py",
      "mimetype": "text/x-python",
      "name": "python",
      "nbconvert_exporter": "python",
      "pygments_lexer": "ipython3",
      "version": "3.9.16"
    },
    "colab": {
      "provenance": []
    }
  },
  "nbformat": 4,
  "nbformat_minor": 0
}