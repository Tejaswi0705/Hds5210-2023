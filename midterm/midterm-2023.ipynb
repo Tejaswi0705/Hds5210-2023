{
  "cells": [
    {
      "cell_type": "markdown",
      "metadata": {
        "id": "sPJNPE4JYDIZ"
      },
      "source": [
        "# HDS5210-2022 Midterm\n",
        "\n",
        "In the midterm, you're going to use all the programming and data management skills you've developed so far to build a risk calculator that pretends to be integrated with a clinical registry.  You'll compute the PRIEST COVID-19 Clinical Severity Score for a series of patients and, based on their risk of an adverse outcome, query a REST web service to find a hospital to transfer them to. The end result of your work will be a list of instructions on where each patient should be discharged given their risk and various characteristics of the patient.\n",
        "\n",
        "Each step in the midterm will build up to form your complete solution.\n",
        "\n",
        "**Make sure you write good docstrings and doctests along the way!!**\n",
        "\n",
        "**The midterm is due at 11:59 PM CST on Monday, October 23rd.**\n",
        "\n",
        "---"
      ]
    },
    {
      "cell_type": "markdown",
      "metadata": {
        "id": "AI3CgzWzYDIa"
      },
      "source": [
        "## Step 1: Calculate PRIEST Clinical Severity Score\n",
        "\n",
        "This scoring algorithm can be found [here on the MDCalc website](https://www.mdcalc.com/priest-covid-19-clinical-severity-score#evidence).  \n",
        "\n",
        "1. You will need to write a function called **priest()** with the following input parameters.  \n",
        " * Sex (Gender assigned at birth)\n",
        " * Age in years\n",
        " * Respiratory rate in breaths per minute\n",
        " * Oxygen saturation as a percent between 0 and 1\n",
        " * Heart rate in beats per minute\n",
        " * Systolic BP in mmHg\n",
        " * Temperature in degrees C\n",
        " * Alertness as a string description\n",
        " * Inspired Oxygen as as string description\n",
        " * Performance Status as a string description\n",
        "2. The function will need to follow the algorithm provided on the MDCalc website to compute a risk percentage that should be returned as a numeric value between 0 and 1.\n",
        "3. Be sure to use docstring documentation and at least three built-in docstring test cases.\n",
        "4. Assume that the input values that are strings could be any combination of upper or lower case. For example: 'male', 'Male', 'MALE', 'MalE' should all be interpretted by your code as male.\n",
        "5. If any of the inputs are invalid (for example a sex value that is not recognizable as male or female) your code should return None.\n",
        "\n",
        "NOTES:\n",
        "1. In the final step there is a table that translates from **PRIEST Score** to **30-day probability of an outcome** but the last two probabilities are shown as ranges (59-88% and >99%).  Our code needs to output a single number, however. For our code, use the following rule:\n",
        " * If PRIEST score is between 17 and 25, the probability you return should be 0.59\n",
        " * If PRIEST score is greater than or equal to 26, the probability you return should be 0.99\n"
      ]
    },
    {
      "cell_type": "code",
      "execution_count": 29,
      "metadata": {
        "id": "LUAjjqM2YDIb"
      },
      "outputs": [],
      "source": [
        "def priest(sex, age, respRate, O2Saturation, heartRate, sysBP, temp, alert, inspO2, perfStatus):\n",
        "\n",
        "  \"\"\"(str, int, int, float, int, int, float, str, str, str) -> float\n",
        "  This function determaines the risk score based on the patient parameters like Sex, Age, Respiratory rate in breaths per minute,\n",
        "  Oxygen saturation as a percent between 0 and 1, Heart rate in beats per minute, Systolic BP in mmHg, Temperature in degrees C,\n",
        "  Alertness, Inspired Oxygen, Performance Status.\n",
        "  Risk percentaile is determined based on the scoring algorithm, which can be found at https://www.mdcalc.com/calc/10369/priest-covid-19-clinical-severity-score#evidence.\n",
        "  After risk percentaile is determined it returns a single numeric value between 0 and 1, but for risk score between 17 and 25, the function returns 0.59 and\n",
        "  If risk score is greater than or equal to 26, the function returns 0.99 as the risk percentile.\n",
        "  If any of the inputs are invalid, it will return None, indicating invalid parmeters.\n",
        "\n",
        "  >>> priest('Male', 55, 15, 0.95, 90, 105, 37.5, 'alert', 'air', 'unrestricted normal activity')\n",
        "  0.09\n",
        "\n",
        "  >>> priest('Female', 72, 23, 0.93, 121, 99, 38.6, 'confused or not alert', 'supplemental oxygen', 'limited strenuous activity, can do light activity')\n",
        "  0.59\n",
        "\n",
        "  >>> priest('female', 85, 8, 0.94, 100, 98, 37.2, 'alert', 'air', 'unrestricted normal activity')\n",
        "  0.34\n",
        "  \"\"\"\n",
        "  risk = 0\n",
        "\n",
        "  if sex.upper() == 'MALE':\n",
        "    risk += 1\n",
        "  elif sex.upper() == 'FEMALE':\n",
        "    risk += 0\n",
        "  else:\n",
        "    return None\n",
        "\n",
        "\n",
        "  if age>=16 and age<= 49:\n",
        "    risk += 0\n",
        "  elif age>=50 and age <= 65:\n",
        "    risk += 2\n",
        "  elif age>=66 and age<= 80:\n",
        "    risk += 3\n",
        "  elif age> 80:\n",
        "    risk += 4\n",
        "  else:\n",
        "    return None\n",
        "\n",
        "\n",
        "  if respRate<9:\n",
        "    risk += 3\n",
        "  elif respRate>=9 and respRate<=11:\n",
        "    risk += 1\n",
        "  elif respRate>=12 and respRate<=20:\n",
        "    risk += 0\n",
        "  elif respRate>=21 and respRate<=24:\n",
        "    risk += 2\n",
        "  else:\n",
        "    risk += 3\n",
        "\n",
        "\n",
        "  if O2Saturation> 95/100:\n",
        "    risk += 0\n",
        "  elif O2Saturation>= 94/100 and O2Saturation<= 95/100:\n",
        "    risk += 1\n",
        "  elif O2Saturation>= 92/100 and O2Saturation<= 93/100:\n",
        "    risk += 2\n",
        "  else:\n",
        "    risk += 3\n",
        "\n",
        "\n",
        "  if heartRate < 41:\n",
        "    risk += 3\n",
        "  elif heartRate>= 41 and heartRate<=50:\n",
        "    risk += 1\n",
        "  elif heartRate>=51 and heartRate<= 90:\n",
        "    risk += 0\n",
        "  elif heartRate>=91 and heartRate<=110:\n",
        "    risk += 1\n",
        "  elif heartRate>=111 and heartRate<=130:\n",
        "    risk += 2\n",
        "  else:\n",
        "    risk += 3\n",
        "\n",
        "\n",
        "  if sysBP<91:\n",
        "    risk += 3\n",
        "  elif sysBP>=91 and sysBP<= 100:\n",
        "    risk += 2\n",
        "  elif sysBP>=101 and sysBP<= 110:\n",
        "    risk += 1\n",
        "  elif sysBP>=111 and sysBP<=219:\n",
        "    risk += 0\n",
        "  else:\n",
        "    risk += 3\n",
        "\n",
        "\n",
        "  if temp < 35.1:\n",
        "    risk += 3\n",
        "  elif temp >= 35.1 and temp<=36.0:\n",
        "    risk += 1\n",
        "  elif temp>= 36.1 and temp<=38.0:\n",
        "    risk += 0\n",
        "  elif temp>=38.1 and temp<=39.0:\n",
        "    risk += 1\n",
        "  else:\n",
        "    risk += 2\n",
        "\n",
        "\n",
        "  if alert.lower() == \"alert\":\n",
        "    risk += 0\n",
        "  elif alert.lower() == \"confused or not alert\":\n",
        "    risk += 3\n",
        "  else:\n",
        "    return None\n",
        "\n",
        "\n",
        "  if inspO2.lower() == \"air\":\n",
        "    risk += 0\n",
        "  elif inspO2.lower() == \"supplemental oxygen\":\n",
        "    risk += 2\n",
        "  else:\n",
        "    return None\n",
        "\n",
        "\n",
        "  if perfStatus.lower() == \"unrestricted normal activity\":\n",
        "    risk += 0\n",
        "  elif perfStatus.lower() == \"limited strenuous activity, can do light activity\":\n",
        "    risk += 1\n",
        "  elif perfStatus.lower() == \"limited activity, can self-care\":\n",
        "    risk += 2\n",
        "  elif perfStatus.lower() == \"limited self-care\":\n",
        "    risk += 3\n",
        "  elif perfStatus.lower() == \"bed/chair bound, no self-care\":\n",
        "    risk += 4\n",
        "  else:\n",
        "    return None\n",
        "\n",
        "\n",
        "  if risk == 0 or risk == 1:\n",
        "    return 0.01\n",
        "  elif risk == 2 or risk == 3:\n",
        "    return 0.02\n",
        "  elif risk == 4:\n",
        "    return 0.03\n",
        "  elif risk == 5:\n",
        "    return 0.09\n",
        "  elif risk == 6:\n",
        "    return 0.15\n",
        "  elif risk == 7:\n",
        "    return 0.18\n",
        "  elif risk == 8:\n",
        "    return 0.22\n",
        "  elif risk == 9:\n",
        "    return 0.26\n",
        "  elif risk == 10:\n",
        "    return 0.29\n",
        "  elif risk == 11:\n",
        "    return 0.34\n",
        "  elif risk == 12:\n",
        "    return 0.38\n",
        "  elif risk == 13:\n",
        "    return 0.46\n",
        "  elif risk == 14:\n",
        "    return 0.47\n",
        "  elif risk == 15:\n",
        "    return 0.49\n",
        "  elif risk == 16:\n",
        "    return 0.55\n",
        "  elif risk>= 17 and risk <= 25:\n",
        "    return 0.59\n",
        "  else :\n",
        "   return 0.99\n"
      ]
    },
    {
      "cell_type": "code",
      "execution_count": 30,
      "metadata": {
        "id": "X5OHR41bYDIb",
        "outputId": "9186c432-a51e-4bad-f4e7-eaa4212b853c",
        "colab": {
          "base_uri": "https://localhost:8080/"
        }
      },
      "outputs": [
        {
          "output_type": "stream",
          "name": "stdout",
          "text": [
            "Finding tests in NoName\n",
            "Trying:\n",
            "    priest('Male', 55, 15, 0.95, 90, 105, 37.5, 'alert', 'air', 'unrestricted normal activity')\n",
            "Expecting:\n",
            "    0.09\n",
            "ok\n",
            "Trying:\n",
            "    priest('Female', 72, 23, 0.93, 121, 99, 38.6, 'confused or not alert', 'supplemental oxygen', 'limited strenuous activity, can do light activity')\n",
            "Expecting:\n",
            "    0.59\n",
            "ok\n",
            "Trying:\n",
            "    priest('female', 85, 8, 0.94, 100, 98, 37.2, 'alert', 'air', 'unrestricted normal activity')\n",
            "Expecting:\n",
            "    0.34\n",
            "ok\n"
          ]
        }
      ],
      "source": [
        "import doctest\n",
        "doctest.run_docstring_examples(priest, globals(),verbose=True)"
      ]
    },
    {
      "cell_type": "markdown",
      "metadata": {
        "id": "pxhXLWYyYDIb"
      },
      "source": [
        "## Part 2: Find a hospital\n",
        "\n",
        "The next thing we have to do is figure out where to send this particular patient.  The guidelines on where to send a patient are based on their age (pediatric, adult, geriatric), sex, and risk percentage.  Luckily, you don't have to implement these rules. I already have. All you have to do is use a REST web service that I've created for you.\n",
        "\n",
        "You'll want to use Python to make a call to my REST web service similar to the example URL below. The first part of the URL will be the same for everyone and every request that you make. What you will need to modify for each of your requests is the information after the question mark.\n",
        "\n",
        "```\n",
        "https://oumdj6oci2.execute-api.us-east-1.amazonaws.com/prd/?age=40&sex=male&risk_pct=0.1\n",
        "```\n",
        "\n",
        "The example above asks my web service where a 40-year old male with a risk of 10% should go.  What the web service will return back is a JSON string containing the information you need.  That JSON will look like this:\n",
        "\n",
        "```json\n",
        "{\n",
        "  \"age\": \"40\",\n",
        "  \"sex\": \"male\",\n",
        "  \"risk\": \"0.1\",\n",
        "  \"hospital\": \"Southwest Hospital and Medical Center\"\n",
        "}\n",
        "```\n",
        "\n",
        "My function is not smart enough to understand `'MALE'` is the same as `'male'`.  You have to send it exactly `'male'` or `'female'`\n",
        "\n",
        "1. Your job is to write a function called **find_hospital()** that takes age, sex, and risk as parameters.\n",
        "2. Your function should call this REST web service using the `requests` module\n",
        "3. Then your function will need to interpret the JSON it gets and return just the name of the hospital\n",
        "4. If anything fails, return None\n",
        "5. Include a good docstring with at least three test cases.\n"
      ]
    },
    {
      "cell_type": "code",
      "execution_count": 31,
      "metadata": {
        "id": "UIPvr_VEYDIc"
      },
      "outputs": [],
      "source": [
        "import requests as req\n",
        "def find_hospital(age, sex, risk):\n",
        "  \"\"\"(int, str, float) -> str\n",
        " By retrieving the hospital name, this function determines the appropriate destination for that specific patient based on\n",
        " characteristics related to risk percentage, sex, and age (pediatric, adult, or geriatric).\n",
        "  To obtain the JSON data, this method will use the requests module to make a call to a REST web service.\n",
        "  then the function reads the JSON data and returns just the hospital's name.\n",
        "  It will return None if any of the inputs are invalid, indicating that there are invalid parameters, links, or functions.\n",
        "\n",
        "  >>> find_hospital(49,\"FeMaLe\",0.65)\n",
        "  'Emory Dunwoody Medical Center'\n",
        "\n",
        "  >>> find_hospital(30,\"male\",0.15)\n",
        "  'Southwest Hospital and Medical Center'\n",
        "\n",
        "  >>> find_hospital(60,\"male\",0.28)\n",
        "  'Select Specialty Hospital - 'Southwest Hospital and Medical Center'\n",
        "\n",
        "  >>> find_hospital(35,\"female\",\"true\")\n",
        "\n",
        "  >>> find_hospital(26,\"male\",\"true\")\n",
        "\n",
        "  \"\"\"\n",
        "  source = \"https://oumdj6oci2.execute-api.us-east-1.amazonaws.com/prd/?age={}&sex={}&risk_pct={}\".format(age,sex.lower(),risk)\n",
        "  sourceData = req.get(source)\n",
        "  if sourceData.status_code == 200:\n",
        "    hospitalData = sourceData.json()\n",
        "    if isinstance(hospitalData,dict):\n",
        "      return hospitalData[\"hospital\"]\n",
        "    return None"
      ]
    },
    {
      "cell_type": "code",
      "execution_count": 32,
      "metadata": {
        "id": "j8WHHf0-YDIc",
        "outputId": "3a749385-302a-44e5-eb87-18d832335836",
        "colab": {
          "base_uri": "https://localhost:8080/"
        }
      },
      "outputs": [
        {
          "output_type": "stream",
          "name": "stdout",
          "text": [
            "Finding tests in NoName\n",
            "Trying:\n",
            "    find_hospital(49,\"FeMaLe\",0.65)\n",
            "Expecting:\n",
            "    'Emory Dunwoody Medical Center'\n",
            "ok\n",
            "Trying:\n",
            "    find_hospital(30,\"male\",0.15)\n",
            "Expecting:\n",
            "    'Southwest Hospital and Medical Center'\n",
            "ok\n",
            "Trying:\n",
            "    find_hospital(60,\"male\",0.28)\n",
            "Expecting:\n",
            "    'Select Specialty Hospital - 'Southwest Hospital and Medical Center'\n",
            "**********************************************************************\n",
            "File \"__main__\", line 16, in NoName\n",
            "Failed example:\n",
            "    find_hospital(60,\"male\",0.28)\n",
            "Expected:\n",
            "    'Select Specialty Hospital - 'Southwest Hospital and Medical Center'\n",
            "Got:\n",
            "    'Southwest Hospital and Medical Center'\n",
            "Trying:\n",
            "    find_hospital(35,\"female\",\"true\")\n",
            "Expecting nothing\n",
            "ok\n",
            "Trying:\n",
            "    find_hospital(26,\"male\",\"true\")\n",
            "Expecting nothing\n",
            "ok\n"
          ]
        }
      ],
      "source": [
        "import doctest\n",
        "doctest.run_docstring_examples(find_hospital, globals(),verbose=True)"
      ]
    },
    {
      "cell_type": "markdown",
      "metadata": {
        "id": "xmFE1tjwYDIc"
      },
      "source": [
        "## Part 3: Get the address for that hospital from a JSON file\n",
        "\n",
        "Great! Now we have code to tell us which hospital to send someone to... but we don't know where that hospital is. The next function we need to create is one that looks up the address of that hospital.  All of these hospitals are in Atlanta, Georgia.  We're going to use the list from this webpage to lookup the address for that hospital, based on its name.  https://www.officialusa.com/stateguides/health/hospitals/georgia.html\n",
        "\n",
        "Because we skipped the section about Beautiful Soup and working with HTML, I've converted this information into a JSON document for you.  It's available for you here.  Your code should retrieve this file using the `requests` module.\n",
        "\n",
        "`https://drive.google.com/uc?export=download&id=1fIFD-NkcdiMu941N4GjyMDWxiKsFJBw-`\n",
        "\n",
        "1. You need to create a function called **get_address()** that takes hospital name as a parameter and searches the data from this JSON file for the hospital you want to find.\n",
        "2. Your code will have to load the JSON and return the correct hospital based on name.\n",
        "3. If the hospital name isn't found, the function should return None.\n",
        "4. Be sure to use good docstring documentation and includes at least 3 test cases."
      ]
    },
    {
      "cell_type": "code",
      "execution_count": 33,
      "metadata": {
        "id": "VEOViqkqYDIc"
      },
      "outputs": [],
      "source": [
        "import requests as req\n",
        "def get_address(hospital_name):\n",
        "  \"\"\"(str) -> str\n",
        "  This function uses the address that is supplied as an input to find the specific hospital.\n",
        "  Using the requests module, this function will download the file from the following URL: https://drive.google.com/uc?export=download&id=1fIFD-NkcdiMu941N4GjyMDWxiKsFJBw..\n",
        "  A.json file with hospital data can be found at the provided link. Consequently, the function loads the data from the.json file and looks up the hospital address.\n",
        "  and gives back the hospital address.\n",
        "\n",
        "  >>> get_address(\"UNION GENERAL HOSPITAL\")\n",
        "  '35 HOSPITAL CIRCLE'\n",
        "\n",
        "  >>> get_address(\"CRITICAL ACCESS\")\n",
        "  '11740 COLUMBIA STREET'\n",
        "\n",
        "  >>> get_address(\"RAYMOND Hospital\")\n",
        "\n",
        "  >>> get_address(\"MITCHELL COUNTY HOSPITAL\")\n",
        "  '90 STEPHENS STREET'\n",
        "\n",
        "  >>> get_address(\"KIMS Hospital\")\n",
        "\n",
        "  \"\"\"\n",
        "  hospital = hospital_name.upper()\n",
        "  dataSource = req.get(\"https://hds5210-data.s3.amazonaws.com/ga_hospitals.json\")\n",
        "  if dataSource.status_code == 200:\n",
        "    patientRecords = dataSource.json()\n",
        "    hospitals = list(patientRecords.keys())\n",
        "    if hospital in hospitals:\n",
        "      return patientRecords[hospital]['ADDRESS']\n",
        "    return None\n",
        "    return None"
      ]
    },
    {
      "cell_type": "markdown",
      "metadata": {
        "id": "-NPs-BhEYDIc"
      },
      "source": [
        "## Part 4: Run the risk calculator on a population\n",
        "\n",
        "At the link below, there is a file called `people.psv`.  It is a pipe-delimited (`|`) file with columns that match the inputs for the PRIEST calculation above.  Your code should use the `requests` module to retrieve the file from this URL.\n",
        "\n",
        "`https://drive.google.com/uc?export=download&id=1fLxJN9YGUqmqExrilxSS8furwUER5HHh`\n",
        "\n",
        "\n",
        "In addition, the file has a patient identifier in the first column.\n",
        "\n",
        "1. Write a function called **process_people()** that takes the file location above as its only parameter. Your Python program should use your code above to process all of these rows, determine the hospital and address, and return a list whose items are a dictionary like this: `{ patient_number: [sex, age, breath, o2sat, heart, systolic, temp, alertness, inspired, status, hospital, address]}`.  Look at the file in Part 5 for what the output looks like.\n",
        "2. Be sure to use good docstrings, but you don't need any tests in your doc strings.  I've provided those for you withe file in Part 5.\n",
        "\n",
        "\n",
        "**NOTE** that when running your code for all the 100 records in the `people.psv` file, it may take a few minutes to complete.  You're making multiple calls to the internet for each record, so that can take a little while.\n"
      ]
    },
    {
      "cell_type": "code",
      "execution_count": 34,
      "metadata": {
        "id": "kjkqYfUGYDIc"
      },
      "outputs": [],
      "source": [
        "import requests as req\n",
        "import csv\n",
        "def process_people(source):\n",
        "  \"\"\"(str) -> dict\n",
        "  This function returns the entire patient details in the dictonary format, by using the file location as its only parameter.\n",
        "  The file location has a people.psv file. It is a pipe-delimited (|) file with columns that match the inputs for the PRIEST calculation above.\n",
        "  The function will use all the previous functions above to process all of these rows, and determine the risk, hospital name and address,\n",
        "  and return a list whose items are a dictionary like this: { patient_number: [sex, age, breath, o2sat, heart, systolic, temp, alertness, inspired, status, risk, hospitalName, hospitalAddress]}.\n",
        "  \"\"\"\n",
        "  sourceData = req.get(source)\n",
        "\n",
        "  if sourceData.status_code == 200:\n",
        "    csv = [i.split('|') for i in sourceData.text.split('\\n')]\n",
        "    if(len(csv[-1][0])==0):\n",
        "      csv.pop(-1)\n",
        "    csv.pop(0)\n",
        "    patientRecordsDict = {}\n",
        "    for row in csv:\n",
        "      key = row.pop(0)\n",
        "      patientRecordsList = [row[0],int(row[1]),float(row[2]),float(row[3]),float(row[4]),float(row[5]),float(row[6]),row[7],row[8],row[9]]\n",
        "      patientRecordsList.append(priest(patientRecordsList[0],patientRecordsList[1],patientRecordsList[2],patientRecordsList[3],patientRecordsList[4],patientRecordsList[5],patientRecordsList[6],patientRecordsList[7],patientRecordsList[8],patientRecordsList[9]))\n",
        "      patientRecordsList.append(find_hospital(patientRecordsList[1],patientRecordsList[0],patientRecordsList[-1]))\n",
        "      patientRecordsList.append(get_address(patientRecordsList[-1].upper()))\n",
        "      patientRecordsDict[key]= patientRecordsList\n",
        "\n",
        "    return patientRecordsDict\n",
        "    return None"
      ]
    },
    {
      "cell_type": "markdown",
      "metadata": {
        "id": "2R5YvJzgYDIc"
      },
      "source": [
        "## Part 5: Checking your final results\n",
        "\n",
        "The final step is to check your results.  You should be able to compare your results to the output in `people_results.json` at the link below.  Write some code to check your results.  This does not need to be a function.\n",
        "\n",
        "`https://drive.google.com/uc?export=download&id=1gx1SSC20mO5XL6uYD0mdcM_cL91fcIW5`\n"
      ]
    },
    {
      "cell_type": "code",
      "execution_count": 35,
      "metadata": {
        "id": "qauxt4P0YDId",
        "outputId": "6d3103a0-064f-4193-9dbe-49a73b8f96c7",
        "colab": {
          "base_uri": "https://localhost:8080/"
        }
      },
      "outputs": [
        {
          "output_type": "execute_result",
          "data": {
            "text/plain": [
              "True"
            ]
          },
          "metadata": {},
          "execution_count": 35
        }
      ],
      "source": [
        "import requests as req\n",
        "\n",
        "resultData = req.get('https://hds5210-data.s3.amazonaws.com/people_results.json')\n",
        "\n",
        "obtainedData = process_people('https://hds5210-data.s3.amazonaws.com/people.psv')\n",
        "\n",
        "resultData.json() == obtainedData"
      ]
    },
    {
      "cell_type": "markdown",
      "metadata": {
        "id": "ZTt9I33IYDId"
      },
      "source": [
        "---\n",
        "\n",
        "## Check your work above\n",
        "\n",
        "If you didn't get them all correct, take a few minutes to think through those that aren't correct.\n",
        "\n",
        "\n",
        "## Submitting Your Work\n",
        "\n",
        "Submit your work as usual into a folder named `midterm`"
      ]
    },
    {
      "cell_type": "markdown",
      "metadata": {
        "id": "C9qBD7FTYDIf"
      },
      "source": [
        "---"
      ]
    }
  ],
  "metadata": {
    "kernelspec": {
      "display_name": "Python 3",
      "language": "python",
      "name": "python3"
    },
    "language_info": {
      "codemirror_mode": {
        "name": "ipython",
        "version": 3
      },
      "file_extension": ".py",
      "mimetype": "text/x-python",
      "name": "python",
      "nbconvert_exporter": "python",
      "pygments_lexer": "ipython3",
      "version": "3.9.16"
    },
    "colab": {
      "provenance": []
    }
  },
  "nbformat": 4,
  "nbformat_minor": 0
}