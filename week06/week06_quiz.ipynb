{
  "cells": [
    {
      "cell_type": "markdown",
      "metadata": {
        "id": "hLKSfmxW6aP7"
      },
      "source": [
        "# In Class Quiz!\n",
        "\n",
        "This week, we are doing an in-class quiz to see how each of you is doing on your own.\n",
        "\n",
        "You must complete this work **entirely on your own** in the next 15 minutes.\n",
        "\n",
        "You may **not ask for help** from anyone **including Google or ChatGPT**.\n",
        "\n",
        "You **are allowed** to use class slides, the online textbook, previous assignments, and any other notes you have.\n",
        "\n",
        "This quiz will be worth **20 points**.\n"
      ]
    },
    {
      "cell_type": "markdown",
      "metadata": {
        "id": "tZdKp0ye6aP8"
      },
      "source": [
        "## Q6.1 - Mean Arterial Pressure (MAP)\n",
        "\n",
        "Mean Arterial Pressure can indicate if a patient is receiving sufficient blood to keep tissue alive.  You can see how to calculate MAP on the [Evidence tab of this page](https://www.mdcalc.com/calc/74/mean-arterial-pressure-map).  I've included the important details here for easy reference.\n",
        "\n",
        "* `map = (1/3 * systolic_bp) + (2/3 * diastolic_bp)`\n",
        "* If a patient has severe sepsis, we want their MAP to be ≥65 mmHg\n",
        "* If a patient does not have severe sepsis, we want their MAP to to be ≥60 mmHg\n",
        "* If the systolic_bp or diastolic_bp reported are ≤ 0, you should return `None`\n",
        "\n",
        "You need to create a function called `map_test()` that takes three parameters: `systolic_bp`, `diastolic_bp`, and `severe_sepsis`.\n",
        "* `systolic_bp` will be an integer\n",
        "* `diastolic_bp` will be an integer\n",
        "* `severe_sepsis` will be a boolean, indicating if the patient has severe sepsis (`True`) or not (`False`)\n",
        "\n",
        "Your function should return either a `True` or `False` depending on if the patient's Mean Arterial Pressure is sufficient to maintain a healthy condition.  That is:\n",
        "* If the patient has severe sepsis, then a MAP ≥ 65 should return True; otherwise False\n",
        "* If the patient does not have severe sepsis, then a MAP ≥ 60 should return True; otherwise False\n",
        "\n",
        "I have provided several test scenarios to help you verify your work.\n",
        "\n",
        "For full credit, your code must satisfy all of the following requirements:\n",
        "1. Pass all of the assert tests provided below\n",
        "2. Have a docstring with parameter types, function description, and at least 5 test cases that cover a range of inputs and outputs\n",
        "3. Successfully run all 5 tests when the *run_docstring_examples* cell is called\n",
        "4. Implement the rules above completely, even if a test scenario is not represented in the asserts or docstrings\n",
        "\n"
      ]
    },
    {
      "cell_type": "code",
      "execution_count": 11,
      "metadata": {
        "id": "QUWqrp1W6aP9"
      },
      "outputs": [],
      "source": [
        "# Put your code here\n",
        "def map_test(systolic_bp: int, diastolic_bp: int, severe_sepsis: bool) -> bool:\n",
        "    \"\"\"\n",
        "    This function takes three parameters: systolic_bp, diastolic_bp, and severe_sepsis.\n",
        "    It returns True if the patient's Mean Arterial Pressure is sufficient to maintain a healthy condition,\n",
        "    and False if not.\n",
        "    Args:\n",
        "        systolic_bp (int): systolic blood pressure\n",
        "        diastolic_bp (int): diastolic blood pressure\n",
        "        severe_sepsis (bool): True if the patient has severe sepsis, False if they dont have sepsis\n",
        "    Returns:\n",
        "        bool: True if the patient is getting enough oxygen to their body, False if they are not getting enough oxygen\n",
        "    Test Cases:\n",
        "        >>> map_test(110, 70, False)\n",
        "        True\n",
        "        >>> map_test(90,  50, False)\n",
        "        True\n",
        "        >>> map_test(110, 70, True)\n",
        "        True\n",
        "        >>> map_test(90,  50, True)\n",
        "        False\n",
        "        >>> map_test(0,   70, False)\n",
        "        None\n",
        "        >>> map_test(110, 0,  False)\n",
        "        None\n",
        "        >>> map_test(0,   70, True)\n",
        "        None\n",
        "        >>> map_test(110, 0,  True)\n",
        "        None\n",
        "        >>> map_test(0,   0,  False)\n",
        "        None\n",
        "        >>> map_test(0,   0,  True)\n",
        "        None\n",
        "    \"\"\"\n",
        "    if systolic_bp <= 0 or diastolic_bp <= 0:\n",
        "        return None\n",
        "\n",
        "    mean_arterial_pressure = (1/3 * systolic_bp) + (2/3 * diastolic_bp)\n",
        "\n",
        "    if severe_sepsis:\n",
        "        return mean_arterial_pressure >= 65\n",
        "    else:\n",
        "        return mean_arterial_pressure >= 60\n"
      ]
    },
    {
      "cell_type": "code",
      "execution_count": 5,
      "metadata": {
        "id": "RBmD7GQm6aP9"
      },
      "outputs": [],
      "source": [
        "# map_test(systolic_bp, diastolic_bp, severe_sepsis) == True if the patient is getting enough oxygen to their body\n",
        "# map_test(systolic_bp, diastolic_bp, severe_sepsis) == False if the patient is not getting enough oxygen\n",
        "\n",
        "assert map_test(110, 70, False) == True\n",
        "assert map_test(90,  50, False) == True\n",
        "assert map_test(110, 70, True)  == True\n",
        "assert map_test(90,  50, True)  == False\n",
        "assert map_test(0,   70, False) == None\n",
        "assert map_test(110, 0,  False) == None\n",
        "assert map_test(0,   70, True)  == None\n",
        "assert map_test(110, 0,  True)  == None\n",
        "assert map_test(0,   0,  False) == None\n",
        "assert map_test(0,   0,  True)  == None"
      ]
    },
    {
      "cell_type": "code",
      "execution_count": 6,
      "metadata": {
        "id": "-j7U1nlR6aP9",
        "outputId": "3ca955cc-3a83-4c09-d36d-3ab9fc018999",
        "colab": {
          "base_uri": "https://localhost:8080/"
        }
      },
      "outputs": [
        {
          "output_type": "stream",
          "name": "stdout",
          "text": [
            "Finding tests in NoName\n",
            "Trying:\n",
            "    map_test(110, 70, False)\n",
            "Expecting:\n",
            "    True\n",
            "ok\n",
            "Trying:\n",
            "    map_test(90,  50, False)\n",
            "Expecting:\n",
            "    True\n",
            "ok\n",
            "Trying:\n",
            "    map_test(110, 70, True) \n",
            "Expecting:\n",
            "    True\n",
            "ok\n",
            "Trying:\n",
            "    map_test(90,  50, True) \n",
            "Expecting:\n",
            "    False\n",
            "ok\n",
            "Trying:\n",
            "    map_test(0,   70, False)\n",
            "Expecting:\n",
            "    None\n",
            "**********************************************************************\n",
            "File \"__main__\", line 22, in NoName\n",
            "Failed example:\n",
            "    map_test(0,   70, False)\n",
            "Expected:\n",
            "    None\n",
            "Got nothing\n",
            "Trying:\n",
            "    map_test(110, 0,  False)\n",
            "Expecting:\n",
            "    None\n",
            "**********************************************************************\n",
            "File \"__main__\", line 24, in NoName\n",
            "Failed example:\n",
            "    map_test(110, 0,  False)\n",
            "Expected:\n",
            "    None\n",
            "Got nothing\n",
            "Trying:\n",
            "    map_test(0,   70, True) \n",
            "Expecting:\n",
            "    None\n",
            "**********************************************************************\n",
            "File \"__main__\", line 26, in NoName\n",
            "Failed example:\n",
            "    map_test(0,   70, True) \n",
            "Expected:\n",
            "    None\n",
            "Got nothing\n",
            "Trying:\n",
            "    map_test(110, 0,  True) \n",
            "Expecting:\n",
            "    None\n",
            "**********************************************************************\n",
            "File \"__main__\", line 28, in NoName\n",
            "Failed example:\n",
            "    map_test(110, 0,  True) \n",
            "Expected:\n",
            "    None\n",
            "Got nothing\n",
            "Trying:\n",
            "    map_test(0,   0,  False)\n",
            "Expecting:\n",
            "    None\n",
            "**********************************************************************\n",
            "File \"__main__\", line 30, in NoName\n",
            "Failed example:\n",
            "    map_test(0,   0,  False)\n",
            "Expected:\n",
            "    None\n",
            "Got nothing\n",
            "Trying:\n",
            "    map_test(0,   0,  True) \n",
            "Expecting:\n",
            "    None\n",
            "**********************************************************************\n",
            "File \"__main__\", line 32, in NoName\n",
            "Failed example:\n",
            "    map_test(0,   0,  True) \n",
            "Expected:\n",
            "    None\n",
            "Got nothing\n"
          ]
        }
      ],
      "source": [
        "import doctest\n",
        "doctest.run_docstring_examples(map_test, globals(), verbose=True)"
      ]
    },
    {
      "cell_type": "markdown",
      "metadata": {
        "id": "cgEseE136aP-"
      },
      "source": [
        "## Q6.2\n",
        "\n",
        "Replace the `?` in each of the lines of code below with one of the following responses: `dict`, `list`, `str`, `int`, or `ERROR` if you think the code is invalid.\n",
        "\n",
        "Based on the following value of the variable `data`:\n",
        "\n",
        "```python\n",
        "data = [\n",
        "    {\n",
        "        \"last_name\": \"Boal\",\n",
        "        \"first_names\": [\"Paul\", \"Anny\"]\n",
        "    },\n",
        "    {\n",
        "        \"last_name\": \"Einstein\",\n",
        "        \"first_names\": [\"Albert\"]\n",
        "    }\n",
        "]\n",
        "```\n",
        "\n",
        "The first one is done for you to show as an example."
      ]
    },
    {
      "cell_type": "code",
      "execution_count": 7,
      "metadata": {
        "id": "XyklqQRs6aP-",
        "outputId": "b5cc5746-30a5-46b8-d32c-0bb7298872b4",
        "colab": {
          "base_uri": "https://localhost:8080/",
          "height": 176
        }
      },
      "outputs": [
        {
          "output_type": "error",
          "ename": "NameError",
          "evalue": "ignored",
          "traceback": [
            "\u001b[0;31m---------------------------------------------------------------------------\u001b[0m",
            "\u001b[0;31mNameError\u001b[0m                                 Traceback (most recent call last)",
            "\u001b[0;32m<ipython-input-7-80a36b58ac47>\u001b[0m in \u001b[0;36m<cell line: 1>\u001b[0;34m()\u001b[0m\n\u001b[0;32m----> 1\u001b[0;31m \u001b[0mtype\u001b[0m\u001b[0;34m(\u001b[0m\u001b[0mdata\u001b[0m\u001b[0;34m)\u001b[0m \u001b[0;34m==\u001b[0m \u001b[0mlist\u001b[0m\u001b[0;34m\u001b[0m\u001b[0;34m\u001b[0m\u001b[0m\n\u001b[0m",
            "\u001b[0;31mNameError\u001b[0m: name 'data' is not defined"
          ]
        }
      ],
      "source": [
        "type(data) == list"
      ]
    },
    {
      "cell_type": "code",
      "execution_count": 9,
      "metadata": {
        "id": "I7I9lGrj6aP-",
        "outputId": "8d683230-01d4-4ffb-f550-d7b275a2dc40",
        "colab": {
          "base_uri": "https://localhost:8080/",
          "height": 141
        }
      },
      "outputs": [
        {
          "output_type": "error",
          "ename": "SyntaxError",
          "evalue": "ignored",
          "traceback": [
            "\u001b[0;36m  File \u001b[0;32m\"<ipython-input-9-53af233f0354>\"\u001b[0;36m, line \u001b[0;32m1\u001b[0m\n\u001b[0;31m    type(data[0]) = dict\u001b[0m\n\u001b[0m    ^\u001b[0m\n\u001b[0;31mSyntaxError\u001b[0m\u001b[0;31m:\u001b[0m cannot assign to function call here. Maybe you meant '==' instead of '='?\n"
          ]
        }
      ],
      "source": [
        "type(data[0]) == dict"
      ]
    },
    {
      "cell_type": "code",
      "execution_count": null,
      "metadata": {
        "id": "5ba93nRi6aP-"
      },
      "outputs": [],
      "source": [
        "type(data[1]) == dict"
      ]
    },
    {
      "cell_type": "code",
      "execution_count": null,
      "metadata": {
        "id": "oSSJ_28q6aP-"
      },
      "outputs": [],
      "source": [
        "type(data[0][\"first_names\"]) == list"
      ]
    },
    {
      "cell_type": "code",
      "execution_count": null,
      "metadata": {
        "id": "1r4Rl6bR6aP-"
      },
      "outputs": [],
      "source": [
        "type(data[0][\"first_names\"][0]) == str"
      ]
    },
    {
      "cell_type": "code",
      "execution_count": null,
      "metadata": {
        "id": "8-klf-j36aP-"
      },
      "outputs": [],
      "source": [
        "type(data[-1][\"last_name\"]) == str"
      ]
    },
    {
      "cell_type": "code",
      "execution_count": null,
      "metadata": {
        "id": "UBZeXGKp6aP-"
      },
      "outputs": [],
      "source": []
    }
  ],
  "metadata": {
    "kernelspec": {
      "display_name": ".venv",
      "language": "python",
      "name": "python3"
    },
    "language_info": {
      "codemirror_mode": {
        "name": "ipython",
        "version": 3
      },
      "file_extension": ".py",
      "mimetype": "text/x-python",
      "name": "python",
      "nbconvert_exporter": "python",
      "pygments_lexer": "ipython3",
      "version": "3.9.16"
    },
    "orig_nbformat": 4,
    "colab": {
      "provenance": []
    }
  },
  "nbformat": 4,
  "nbformat_minor": 0
}