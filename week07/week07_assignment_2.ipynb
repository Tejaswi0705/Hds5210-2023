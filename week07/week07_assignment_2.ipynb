{
  "cells": [
    {
      "cell_type": "markdown",
      "metadata": {
        "id": "mpl561ALJpp6"
      },
      "source": [
        "# Week 7 Assignment\n",
        "\n",
        "We've been working with different types of data structures in Python (dictionary, list, etc), how those are represented in JSON documents, and how to write code to access specific data elements. In this week's assignment, you will need to create your own JSON document to store information about yourself and the grades you've received from week 1 to week 4 and the week 6 quiz.  That is, everything you should have received a grade for.  Then you'll need to show me you know how to navigate the JSON in that file.\n",
        "\n",
        "Different from what we've done in the past, you do not have to write any functions or include any docstrings.  Just create some JSON and write some code.\n",
        "\n",
        "---"
      ]
    },
    {
      "cell_type": "markdown",
      "metadata": {
        "id": "uDWISdzPJpp7"
      },
      "source": [
        "## 7.1 Create a JSON string\n",
        "\n",
        "Create a JSON string that contains your name, email, year you were born, all of the grades you've received back so far, and a comment about what you thought was most challenging on each of those assignments.  This can be any structure you choose, but make sure it uses a dictionary and a list, and has at least two levels of hierarchy.  That is, it can't just be one big long list."
      ]
    },
    {
      "cell_type": "markdown",
      "metadata": {
        "id": "FD5SB1VbJpp8"
      },
      "source": [
        "First, explain how your data structure is going to look..."
      ]
    },
    {
      "cell_type": "markdown",
      "metadata": {
        "id": "t6RheRPyJpp8"
      },
      "source": [
        "* Put your explanation here in text..."
      ]
    },
    {
      "cell_type": "markdown",
      "metadata": {
        "id": "ccXM1EgKJpp8"
      },
      "source": [
        "Then put the actual JSON you've created inside the multiline string below..."
      ]
    },
    {
      "cell_type": "code",
      "execution_count": 9,
      "metadata": {
        "id": "EU18AWVWJpp8"
      },
      "outputs": [],
      "source": [
        "hds5210 = \"\"\"\n",
        "{\n",
        "  \"name\": \"tejaswi yellanki\",\n",
        "  \"email id\": \"tyellanki1@slu.edu\",\n",
        "  \"year of born\": \"2001\",\n",
        "  \"grades received\": [\n",
        "    {\n",
        "      \"assignment\": \"week 1\",\n",
        "      \"grades\": \"10/10\",\n",
        "      \"challenge\": \"Familiarizing myself with Colaboratory\"\n",
        "    },\n",
        "    {\n",
        "      \"assignment\": \"week 2\",\n",
        "      \"grades\": \"10/10\",\n",
        "      \"challenge\": \"Using calculations and correct codes\"\n",
        "    },\n",
        "    {\n",
        "      \"assignment\": \"week 3\",\n",
        "      \"grades\": \"10/10\",\n",
        "      \"challenge\": \"Using correct functions\"\n",
        "    },\n",
        "    {\n",
        "      \"assignment\": \"week 4\",\n",
        "      \"grades\": \"0/10\",\n",
        "      \"challenge\": \"Using data structures\"\n",
        "    },\n",
        "    {\n",
        "      \"assignment\": \"week 6 Quiz\",\n",
        "      \"grades\": \"5/20\",\n",
        "      \"challenge\": \"Quiz's were a little complicated\"\n",
        "    }\n",
        "  ]\n",
        "}\n",
        "\"\"\"\n"
      ]
    },
    {
      "cell_type": "markdown",
      "metadata": {
        "id": "PVpVXslwJpp9"
      },
      "source": [
        "## 7.2 Do something with your JSON\n",
        "\n",
        "Now use Python code to do something with the Json above.  Turn it into English text, but make sure that you use at least one loop to access some dict or list content of your JSON.  Below, I've provided some basic code to read in the string above as JSON and return a Python object.  Your job is to work with that data structure and print out the important information like your name, email, and how you did on each assignment."
      ]
    },
    {
      "cell_type": "code",
      "execution_count": 14,
      "metadata": {
        "id": "ZHOwbCNHJpp9",
        "outputId": "4fe35c0f-158d-4a33-b83d-72c2c2a07084",
        "colab": {
          "base_uri": "https://localhost:8080/"
        }
      },
      "outputs": [
        {
          "output_type": "stream",
          "name": "stdout",
          "text": [
            "Name: tejaswi yellanki\n",
            "Email: tyellanki1@slu.edu\n",
            "Year of Born: 2001\n",
            "Assignment: week 1\n",
            "Grade: 10/10\n",
            "Challenge: Familiarizing myself with Colaboratory\n",
            "\n",
            "Assignment: week 2\n",
            "Grade: 10/10\n",
            "Challenge: Using calculations and correct codes\n",
            "\n",
            "Assignment: week 3\n",
            "Grade: 10/10\n",
            "Challenge: Using correct functions\n",
            "\n",
            "Assignment: week 4\n",
            "Grade: 0/10\n",
            "Challenge: Using data structures\n",
            "\n",
            "Assignment: week 6 Quiz\n",
            "Grade: 5/20\n",
            "Challenge: Quiz's were a little complicated\n",
            "\n"
          ]
        }
      ],
      "source": [
        "import json\n",
        "hds5210 = \"\"\"\n",
        "{\n",
        "  \"name\": \"tejaswi yellanki\",\n",
        "  \"email id\": \"tyellanki1@slu.edu\",\n",
        "  \"year of born\": \"2001\",\n",
        "  \"grades received\": [\n",
        "    {\n",
        "      \"assignment\": \"week 1\",\n",
        "      \"grades\": \"10/10\",\n",
        "      \"challenge\": \"Familiarizing myself with Colaboratory\"\n",
        "    },\n",
        "    {\n",
        "      \"assignment\": \"week 2\",\n",
        "      \"grades\": \"10/10\",\n",
        "      \"challenge\": \"Using calculations and correct codes\"\n",
        "    },\n",
        "    {\n",
        "      \"assignment\": \"week 3\",\n",
        "      \"grades\": \"10/10\",\n",
        "      \"challenge\": \"Using correct functions\"\n",
        "    },\n",
        "    {\n",
        "      \"assignment\": \"week 4\",\n",
        "      \"grades\": \"0/10\",\n",
        "      \"challenge\": \"Using data structures\"\n",
        "    },\n",
        "    {\n",
        "      \"assignment\": \"week 6 Quiz\",\n",
        "      \"grades\": \"5/20\",\n",
        "      \"challenge\": \"Quiz's were a little complicated\"\n",
        "    }\n",
        "  ]\n",
        "}\n",
        "\"\"\"\n",
        "\n",
        "\n",
        "info = json.loads(hds5210)\n",
        "\n",
        "\n",
        "name = info[\"name\"]\n",
        "email = info[\"email id\"]\n",
        "year_of_born = info[\"year of born\"]\n",
        "grades_received = info[\"grades received\"]\n",
        "\n",
        "print(f\"Name: {name}\")\n",
        "print(f\"Email: {email}\")\n",
        "print(f\"Year of Born: {year_of_born}\")\n",
        "\n",
        "for grade in grades_received:\n",
        "    assignment = grade[\"assignment\"]\n",
        "    grade_value = grade[\"grades\"]\n",
        "    challenge = grade[\"challenge\"]\n",
        "    print(f\"Assignment: {assignment}\")\n",
        "    print(f\"Grade: {grade_value}\")\n",
        "    print(f\"Challenge: {challenge}\\n\")"
      ]
    },
    {
      "cell_type": "markdown",
      "metadata": {
        "id": "h0rxqAymJpp9"
      },
      "source": [
        "## 7.3 Reflect\n",
        "\n",
        "Write a paragraph on any reflections you have. Was this hard? Easy?  What parts were most challenging or easiest? What did you like or dislike about the assignment?  Share whatever important thoughts you have abou this assignment."
      ]
    },
    {
      "cell_type": "markdown",
      "metadata": {
        "id": "2I9nrFjtJpp9"
      },
      "source": [
        "\n",
        "\n",
        "```\n",
        "# This is formatted as code\n",
        "```\n",
        "\n",
        "I find it little difficult to convert JSON code into Python english text.Though it took some time I was able to understand it."
      ]
    },
    {
      "cell_type": "markdown",
      "metadata": {
        "id": "I2BGrUSzJpp9"
      },
      "source": [
        "---\n",
        "\n",
        "# Example\n",
        "\n",
        "Below is an example of something similar, but this uses information my and my friend's kids instead of grades."
      ]
    },
    {
      "cell_type": "code",
      "execution_count": 15,
      "metadata": {
        "id": "NNy6X7wSJpp9",
        "outputId": "a6830239-0fcd-4408-a179-804693316c52",
        "colab": {
          "base_uri": "https://localhost:8080/"
        }
      },
      "outputs": [
        {
          "output_type": "stream",
          "name": "stdout",
          "text": [
            "Hi, my name is Paul. I've got 3 kids. Their names are Ellie, Ada, Teddy.\n",
            "My friend, Anny has 1 kids. That's fewer than me. Their names are 1\n"
          ]
        }
      ],
      "source": [
        "hds5210 = \"\"\"\n",
        "{\n",
        "    \"me\": {\n",
        "        \"name\": \"Paul\",\n",
        "        \"kids\": [\"Ellie\", \"Ada\", \"Teddy\"]\n",
        "    },\n",
        "    \"friend\": {\n",
        "        \"name\": \"Anny\",\n",
        "        \"kids\": [\"Abby\"]\n",
        "    }\n",
        "}\n",
        "\"\"\"\n",
        "\n",
        "import json\n",
        "\n",
        "info = json.loads(hds5210)\n",
        "\n",
        "me = info[\"me\"][\"name\"]\n",
        "my_kids_count = len(info[\"me\"][\"kids\"])\n",
        "kids_list = \", \".join(info[\"me\"][\"kids\"])\n",
        "friend = info[\"friend\"][\"name\"]\n",
        "friends_kid_count = len(info[\"friend\"][\"kids\"])\n",
        "friend_kids = \", \".join(info[\"friend\"][\"kids\"])\n",
        "compare = \"more\" if friends_kid_count > my_kids_count else \"fewer\"\n",
        "\n",
        "print(f\"Hi, my name is {me}. I've got {my_kids_count} kids. Their names are {kids_list}.\")\n",
        "print(f\"My friend, {friend} has {friends_kid_count} kids. That's {compare} than me. Their names are {friends_kid_count}\")"
      ]
    }
  ],
  "metadata": {
    "kernelspec": {
      "display_name": "Python 3",
      "language": "python",
      "name": "python3"
    },
    "language_info": {
      "codemirror_mode": {
        "name": "ipython",
        "version": 3
      },
      "file_extension": ".py",
      "mimetype": "text/x-python",
      "name": "python",
      "nbconvert_exporter": "python",
      "pygments_lexer": "ipython3",
      "version": "3.9.16"
    },
    "colab": {
      "provenance": []
    }
  },
  "nbformat": 4,
  "nbformat_minor": 0
}